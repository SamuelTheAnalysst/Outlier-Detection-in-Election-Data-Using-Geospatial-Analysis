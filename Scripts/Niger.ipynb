{
 "cells": [
  {
   "cell_type": "markdown",
   "metadata": {},
   "source": [
    "# Step 1: Dataset Preparation"
   ]
  },
  {
   "cell_type": "code",
   "execution_count": 1,
   "metadata": {},
   "outputs": [
    {
     "data": {
      "text/html": [
       "<div>\n",
       "<style scoped>\n",
       "    .dataframe tbody tr th:only-of-type {\n",
       "        vertical-align: middle;\n",
       "    }\n",
       "\n",
       "    .dataframe tbody tr th {\n",
       "        vertical-align: top;\n",
       "    }\n",
       "\n",
       "    .dataframe thead th {\n",
       "        text-align: right;\n",
       "    }\n",
       "</style>\n",
       "<table border=\"1\" class=\"dataframe\">\n",
       "  <thead>\n",
       "    <tr style=\"text-align: right;\">\n",
       "      <th></th>\n",
       "      <th>State</th>\n",
       "      <th>LGA</th>\n",
       "      <th>Ward</th>\n",
       "      <th>PU-Code</th>\n",
       "      <th>PU-Name</th>\n",
       "      <th>Accredited_Voters</th>\n",
       "      <th>Registered_Voters</th>\n",
       "      <th>Results_Found</th>\n",
       "      <th>Transcription_Count</th>\n",
       "      <th>Result_Sheet_Stamped</th>\n",
       "      <th>Result_Sheet_Corrected</th>\n",
       "      <th>Result_Sheet_Invalid</th>\n",
       "      <th>Result_Sheet_Unclear</th>\n",
       "      <th>Result_Sheet_Unsigned</th>\n",
       "      <th>APC</th>\n",
       "      <th>LP</th>\n",
       "      <th>PDP</th>\n",
       "      <th>NNPP</th>\n",
       "      <th>Results_File</th>\n",
       "    </tr>\n",
       "  </thead>\n",
       "  <tbody>\n",
       "    <tr>\n",
       "      <th>0</th>\n",
       "      <td>NIGER</td>\n",
       "      <td>AGAIE</td>\n",
       "      <td>BARO</td>\n",
       "      <td>26-01-01-001</td>\n",
       "      <td>AKWANO</td>\n",
       "      <td>164</td>\n",
       "      <td>541</td>\n",
       "      <td>True</td>\n",
       "      <td>-1</td>\n",
       "      <td>False</td>\n",
       "      <td>True</td>\n",
       "      <td>False</td>\n",
       "      <td>False</td>\n",
       "      <td>UNKNOWN</td>\n",
       "      <td>77</td>\n",
       "      <td>0</td>\n",
       "      <td>87</td>\n",
       "      <td>0</td>\n",
       "      <td>https://inec-cvr-cache.s3.eu-west-1.amazonaws....</td>\n",
       "    </tr>\n",
       "    <tr>\n",
       "      <th>1</th>\n",
       "      <td>NIGER</td>\n",
       "      <td>AGAIE</td>\n",
       "      <td>BARO</td>\n",
       "      <td>26-01-01-003</td>\n",
       "      <td>BARO I</td>\n",
       "      <td>148</td>\n",
       "      <td>429</td>\n",
       "      <td>True</td>\n",
       "      <td>-1</td>\n",
       "      <td>False</td>\n",
       "      <td>False</td>\n",
       "      <td>False</td>\n",
       "      <td>False</td>\n",
       "      <td>UNKNOWN</td>\n",
       "      <td>95</td>\n",
       "      <td>0</td>\n",
       "      <td>37</td>\n",
       "      <td>2</td>\n",
       "      <td>https://inec-cvr-cache.s3.eu-west-1.amazonaws....</td>\n",
       "    </tr>\n",
       "    <tr>\n",
       "      <th>2</th>\n",
       "      <td>NIGER</td>\n",
       "      <td>AGAIE</td>\n",
       "      <td>BARO</td>\n",
       "      <td>26-01-01-004</td>\n",
       "      <td>BARO II</td>\n",
       "      <td>148</td>\n",
       "      <td>429</td>\n",
       "      <td>True</td>\n",
       "      <td>-1</td>\n",
       "      <td>False</td>\n",
       "      <td>False</td>\n",
       "      <td>False</td>\n",
       "      <td>False</td>\n",
       "      <td>UNKNOWN</td>\n",
       "      <td>88</td>\n",
       "      <td>0</td>\n",
       "      <td>106</td>\n",
       "      <td>2</td>\n",
       "      <td>https://inec-cvr-cache.s3.eu-west-1.amazonaws....</td>\n",
       "    </tr>\n",
       "    <tr>\n",
       "      <th>3</th>\n",
       "      <td>NIGER</td>\n",
       "      <td>AGAIE</td>\n",
       "      <td>BARO</td>\n",
       "      <td>26-01-01-005</td>\n",
       "      <td>ESSUN</td>\n",
       "      <td>329</td>\n",
       "      <td>803</td>\n",
       "      <td>True</td>\n",
       "      <td>-1</td>\n",
       "      <td>False</td>\n",
       "      <td>False</td>\n",
       "      <td>False</td>\n",
       "      <td>False</td>\n",
       "      <td>UNKNOWN</td>\n",
       "      <td>109</td>\n",
       "      <td>0</td>\n",
       "      <td>206</td>\n",
       "      <td>11</td>\n",
       "      <td>https://inec-cvr-cache.s3.eu-west-1.amazonaws....</td>\n",
       "    </tr>\n",
       "    <tr>\n",
       "      <th>4</th>\n",
       "      <td>NIGER</td>\n",
       "      <td>AGAIE</td>\n",
       "      <td>BARO</td>\n",
       "      <td>26-01-01-006</td>\n",
       "      <td>EVUNTAGI</td>\n",
       "      <td>281</td>\n",
       "      <td>531</td>\n",
       "      <td>True</td>\n",
       "      <td>-1</td>\n",
       "      <td>False</td>\n",
       "      <td>False</td>\n",
       "      <td>False</td>\n",
       "      <td>False</td>\n",
       "      <td>UNKNOWN</td>\n",
       "      <td>175</td>\n",
       "      <td>0</td>\n",
       "      <td>95</td>\n",
       "      <td>3</td>\n",
       "      <td>https://inec-cvr-cache.s3.eu-west-1.amazonaws....</td>\n",
       "    </tr>\n",
       "  </tbody>\n",
       "</table>\n",
       "</div>"
      ],
      "text/plain": [
       "   State    LGA  Ward       PU-Code   PU-Name  Accredited_Voters  \\\n",
       "0  NIGER  AGAIE  BARO  26-01-01-001    AKWANO                164   \n",
       "1  NIGER  AGAIE  BARO  26-01-01-003    BARO I                148   \n",
       "2  NIGER  AGAIE  BARO  26-01-01-004   BARO II                148   \n",
       "3  NIGER  AGAIE  BARO  26-01-01-005     ESSUN                329   \n",
       "4  NIGER  AGAIE  BARO  26-01-01-006  EVUNTAGI                281   \n",
       "\n",
       "   Registered_Voters  Results_Found  Transcription_Count  \\\n",
       "0                541           True                   -1   \n",
       "1                429           True                   -1   \n",
       "2                429           True                   -1   \n",
       "3                803           True                   -1   \n",
       "4                531           True                   -1   \n",
       "\n",
       "   Result_Sheet_Stamped  Result_Sheet_Corrected  Result_Sheet_Invalid  \\\n",
       "0                 False                    True                 False   \n",
       "1                 False                   False                 False   \n",
       "2                 False                   False                 False   \n",
       "3                 False                   False                 False   \n",
       "4                 False                   False                 False   \n",
       "\n",
       "   Result_Sheet_Unclear Result_Sheet_Unsigned  APC  LP  PDP  NNPP  \\\n",
       "0                 False               UNKNOWN   77   0   87     0   \n",
       "1                 False               UNKNOWN   95   0   37     2   \n",
       "2                 False               UNKNOWN   88   0  106     2   \n",
       "3                 False               UNKNOWN  109   0  206    11   \n",
       "4                 False               UNKNOWN  175   0   95     3   \n",
       "\n",
       "                                        Results_File  \n",
       "0  https://inec-cvr-cache.s3.eu-west-1.amazonaws....  \n",
       "1  https://inec-cvr-cache.s3.eu-west-1.amazonaws....  \n",
       "2  https://inec-cvr-cache.s3.eu-west-1.amazonaws....  \n",
       "3  https://inec-cvr-cache.s3.eu-west-1.amazonaws....  \n",
       "4  https://inec-cvr-cache.s3.eu-west-1.amazonaws....  "
      ]
     },
     "execution_count": 1,
     "metadata": {},
     "output_type": "execute_result"
    }
   ],
   "source": [
    "import pandas as pd\n",
    "file_path = pd.read_csv('NIGER_crosschecked.csv')\n",
    "\n",
    "\n",
    "# Display the first few rows of the dataset to understand its structure\n",
    "file_path.head()"
   ]
  },
  {
   "cell_type": "markdown",
   "metadata": {},
   "source": [
    "#### Cleaning dataset before Geocoding"
   ]
  },
  {
   "cell_type": "code",
   "execution_count": 3,
   "metadata": {},
   "outputs": [
    {
     "name": "stdout",
     "output_type": "stream",
     "text": [
      "Number of rows before cleaning: 4394\n",
      "Number of rows after cleaning: 4253\n"
     ]
    }
   ],
   "source": [
    "import pandas as pd\n",
    "\n",
    "# Load the original dataset\n",
    "file_path = 'NIGER_crosschecked.csv'\n",
    "data = pd.read_csv(file_path)\n",
    "\n",
    "# Remove duplicates based on the 'PU-Name' column\n",
    "cleaned_data = data.drop_duplicates(subset=['PU-Name'])\n",
    "\n",
    "# Save the cleaned dataset\n",
    "cleaned_file_path = 'NIGER_crosschecked_cleaned.csv'\n",
    "cleaned_data.to_csv(cleaned_file_path, index=False)\n",
    "\n",
    "# Display the number of rows before and after cleaning\n",
    "print(f\"Number of rows before cleaning: {len(data)}\")\n",
    "print(f\"Number of rows after cleaning: {len(cleaned_data)}\")\n"
   ]
  },
  {
   "cell_type": "markdown",
   "metadata": {},
   "source": [
    "## Geocoding with Nominatim (OpenStreetMap)"
   ]
  },
  {
   "cell_type": "markdown",
   "metadata": {},
   "source": [
    "#### Instantiating a geocoder"
   ]
  },
  {
   "cell_type": "code",
   "execution_count": 4,
   "metadata": {},
   "outputs": [],
   "source": [
    "from geopy import geocoders\n",
    "\n",
    "# Instantiate a geocoder\n",
    "# Note: Nominatim requires user_agent field to be filled with\n",
    "# a general idea of what you are using Nominatim for.\n",
    "geocoder = geocoders.Nominatim(user_agent = 'Kogi Address Coordinates')"
   ]
  },
  {
   "cell_type": "markdown",
   "metadata": {},
   "source": [
    "#### Using the geocoder to send a sample request"
   ]
  },
  {
   "cell_type": "code",
   "execution_count": 5,
   "metadata": {},
   "outputs": [
    {
     "data": {
      "text/plain": [
       "Location(Akwano Health Clinic, Lapai, Niger, Nigeria, (8.590557, 6.4234802, 0.0))"
      ]
     },
     "execution_count": 5,
     "metadata": {},
     "output_type": "execute_result"
    }
   ],
   "source": [
    "# Use the geocoder to send a sample request,\n",
    "# plus additional address details.\n",
    "\n",
    "result = geocoder.geocode('AKWANO', addressdetails = True)\n",
    "result"
   ]
  },
  {
   "cell_type": "markdown",
   "metadata": {},
   "source": [
    "#### Fetch coordinates only the first 5 rows for testing"
   ]
  },
  {
   "cell_type": "code",
   "execution_count": 6,
   "metadata": {},
   "outputs": [
    {
     "name": "stdout",
     "output_type": "stream",
     "text": [
      "    PU-Name   Latitude  Longitude\n",
      "0    AKWANO   8.590557   6.423480\n",
      "1    BARO I  44.305348  17.596147\n",
      "2   BARO II  41.647773  -0.916222\n",
      "3     ESSUN  60.177571  24.697060\n",
      "4  EVUNTAGI   9.516667   6.150000\n"
     ]
    }
   ],
   "source": [
    "import pandas as pd\n",
    "from geopy import geocoders\n",
    "\n",
    "# Read the CSV file into a DataFrame, reading only the first 5 rows for testing\n",
    "file_path = pd.read_csv('NIGER_crosschecked_cleaned.csv', usecols=['PU-Name'], nrows=5)\n",
    "\n",
    "# Instantiate a geocoder\n",
    "geocoder = geocoders.Nominatim(user_agent='Kogi Address Coordinates')\n",
    "\n",
    "# Define a function to geocode addresses and extract coordinates\n",
    "def geocode_address(address):\n",
    "    try:\n",
    "        location = geocoder.geocode(address, addressdetails=True)\n",
    "        if location:\n",
    "            return location.latitude, location.longitude\n",
    "        else:\n",
    "            return None, None\n",
    "    except Exception as e:\n",
    "        print(f\"Error geocoding {address}: {e}\")\n",
    "        return None, None\n",
    "\n",
    "# Apply the function to geocode each address in the 'PU-Name' column\n",
    "file_path['Latitude'], file_path['Longitude'] = zip(*file_path['PU-Name'].apply(geocode_address))\n",
    "\n",
    "# Display the 'PU-Name', 'Latitude', and 'Longitude' columns for the first 5 rows\n",
    "print(file_path[['PU-Name', 'Latitude', 'Longitude']])\n"
   ]
  },
  {
   "cell_type": "markdown",
   "metadata": {},
   "source": [
    "#### Fetching coordinates for all the addresses. Plus updating the dataset with the obtained coordinates."
   ]
  },
  {
   "cell_type": "code",
   "execution_count": null,
   "metadata": {},
   "outputs": [],
   "source": [
    "import pandas as pd\n",
    "from geopy.geocoders import Nominatim\n",
    "from geopy.extra.rate_limiter import RateLimiter\n",
    "import time\n",
    "\n",
    "# Load the dataset\n",
    "file_path = 'NIGER_crosschecked_cleaned.csv'\n",
    "data = pd.read_csv(file_path)\n",
    "\n",
    "# Instantiate a Nominatim geocoder\n",
    "geolocator = Nominatim(user_agent=\"election_data_geocoder\")\n",
    "\n",
    "# Create a rate limited geocoding function with increased timeout\n",
    "geocode = RateLimiter(geolocator.geocode, min_delay_seconds=1, max_retries=3, error_wait_seconds=2, swallow_exceptions=False)\n",
    "\n",
    "# Define a function to fetch latitude and longitude\n",
    "def fetch_coordinates(address):\n",
    "    try:\n",
    "        location = geocode(address, addressdetails=True, timeout=10)  # Increase timeout to 10 seconds\n",
    "        if location:\n",
    "            return location.latitude, location.longitude\n",
    "        else:\n",
    "            return None, None\n",
    "    except Exception as e:\n",
    "        print(f\"Error fetching data for address '{address}': {e}\")\n",
    "        return None, None\n",
    "\n",
    "# Create lists to store the results\n",
    "latitudes = []\n",
    "longitudes = []\n",
    "not_found_addresses = []\n",
    "\n",
    "# Iterate over the addresses and fetch coordinates\n",
    "for i, address in enumerate(data['PU-Name']):\n",
    "    lat, lon = fetch_coordinates(address)\n",
    "    if lat is None or lon is None:\n",
    "        not_found_addresses.append(address)\n",
    "    latitudes.append(lat)\n",
    "    longitudes.append(lon)\n",
    "    time.sleep(1)  # To respect Nominatim's usage policy\n",
    "    print(f\"Processed {i + 1}/{len(data['PU-Name'])} addresses: {address} -> (Lat: {lat}, Lon: {lon})\")\n",
    "\n",
    "# Add the coordinates to the dataset\n",
    "data['latitude'] = latitudes\n",
    "data['longitude'] = longitudes\n",
    "\n",
    "# Save the updated dataset, overwriting the original file\n",
    "data.to_csv(file_path, index=False)\n",
    "\n",
    "# Save the not found addresses\n",
    "with open('not_found_addresses.txt', 'w') as f:\n",
    "    for address in not_found_addresses:\n",
    "        f.write(f\"{address}\\n\")\n",
    "\n",
    "# Display the first few rows to verify the results\n",
    "print(data[['PU-Name', 'latitude', 'longitude']].head())\n",
    "print(f\"Number of addresses not found: {len(not_found_addresses)}\")\n"
   ]
  },
  {
   "cell_type": "markdown",
   "metadata": {},
   "source": [
    "#### Number of successfully geocoded addresses "
   ]
  },
  {
   "cell_type": "code",
   "execution_count": 3,
   "metadata": {},
   "outputs": [
    {
     "name": "stdout",
     "output_type": "stream",
     "text": [
      "Number of addresses found: 836\n"
     ]
    }
   ],
   "source": [
    "import pandas as pd\n",
    "\n",
    "# Load the dataset\n",
    "file_path = 'NIGER_crosschecked_cleaned.csv'\n",
    "data = pd.read_csv(file_path)\n",
    "\n",
    "# Filter out the rows where either latitude or longitude is NaN\n",
    "found_addresses = data.dropna(subset=['latitude', 'longitude'])\n",
    "\n",
    "# Display the number of found addresses\n",
    "print(f\"Number of addresses found: {len(found_addresses)}\")\n"
   ]
  },
  {
   "cell_type": "markdown",
   "metadata": {},
   "source": [
    "#### Cleaning and removing the rows with missing coordinates"
   ]
  },
  {
   "cell_type": "code",
   "execution_count": 5,
   "metadata": {},
   "outputs": [
    {
     "name": "stdout",
     "output_type": "stream",
     "text": [
      "Number of addresses with coordinates: 836\n",
      "    PU-Name       PU-Code   latitude  longitude\n",
      "0    AKWANO  26-01-01-001   8.590557   6.423480\n",
      "1    BARO I  26-01-01-003  44.305348  17.596147\n",
      "2   BARO II  26-01-01-004 -29.913243 -71.249374\n",
      "3     ESSUN  26-01-01-005  60.177571  24.697060\n",
      "4  EVUNTAGI  26-01-01-006   9.516667   6.150000\n"
     ]
    }
   ],
   "source": [
    "import pandas as pd\n",
    "\n",
    "# Load the dataset\n",
    "file_path = 'NIGER_crosschecked_cleaned.csv'\n",
    "data = pd.read_csv(file_path)\n",
    "\n",
    "# Remove the rows where either latitude or longitude is NaN\n",
    "cleaned_data = data.dropna(subset=['latitude', 'longitude'])\n",
    "\n",
    "# Save the cleaned dataset, overwriting the original file\n",
    "cleaned_data.to_csv(file_path, index=False)\n",
    "\n",
    "# Display the number of remaining addresses and the first few rows to verify the results\n",
    "print(f\"Number of addresses with coordinates: {len(cleaned_data)}\")\n",
    "print(cleaned_data[['PU-Name', 'PU-Code', 'latitude', 'longitude']].head())\n"
   ]
  },
  {
   "cell_type": "markdown",
   "metadata": {},
   "source": [
    "# Step 2: Neighbour Identification Setting A Predefined Radius (5km)"
   ]
  },
  {
   "cell_type": "markdown",
   "metadata": {},
   "source": [
    "##### approximately 22.13% of the polling units have neighbors within the specified radius of 5km"
   ]
  },
  {
   "cell_type": "code",
   "execution_count": 16,
   "metadata": {},
   "outputs": [
    {
     "name": "stdout",
     "output_type": "stream",
     "text": [
      "Processed 1 polling units out of 836\n",
      "Processed 101 polling units out of 836\n",
      "Processed 201 polling units out of 836\n",
      "Processed 301 polling units out of 836\n",
      "Processed 401 polling units out of 836\n",
      "Processed 501 polling units out of 836\n",
      "Processed 601 polling units out of 836\n",
      "Processed 701 polling units out of 836\n",
      "Processed 801 polling units out of 836\n",
      "    PU-Name       PU-Code   latitude  longitude neighbours\n",
      "0    AKWANO  26-01-01-001   8.590557   6.423480         []\n",
      "1    BARO I  26-01-01-003  44.305348  17.596147         []\n",
      "2   BARO II  26-01-01-004 -29.913243 -71.249374         []\n",
      "3     ESSUN  26-01-01-005  60.177571  24.697060         []\n",
      "4  EVUNTAGI  26-01-01-006   9.516667   6.150000         []\n"
     ]
    }
   ],
   "source": [
    "import pandas as pd\n",
    "from geopy.distance import geodesic\n",
    "\n",
    "# Load the cleaned dataset\n",
    "file_path = 'NIGER_crosschecked_cleaned.csv'\n",
    "data = pd.read_csv(file_path)\n",
    "\n",
    "# Function to calculate distance between two points (lat1, lon1) and (lat2, lon2)\n",
    "def calculate_distance(lat1, lon1, lat2, lon2):\n",
    "    return geodesic((lat1, lon1), (lat2, lon2)).kilometers\n",
    "\n",
    "# Define a radius  5 km)\n",
    "radius = 5\n",
    "\n",
    "# Initialize a list to store neighbours information\n",
    "neighbours = []\n",
    "\n",
    "# Iterate over each polling unit to find its neighbours\n",
    "for i, row1 in data.iterrows():\n",
    "    neighbours_i = []\n",
    "    for j, row2 in data.iterrows():\n",
    "        if i != j:\n",
    "            distance = calculate_distance(row1['latitude'], row1['longitude'], row2['latitude'], row2['longitude'])\n",
    "            if distance <= radius:\n",
    "                neighbours_i.append(f\"{row2['PU-Name']} ({row2['PU-Code']})\")\n",
    "    neighbours.append(neighbours_i)\n",
    "    if i % 100 == 0:\n",
    "        print(f\"Processed {i + 1} polling units out of {len(data)}\")\n",
    "\n",
    "# Add the neighbours information to the dataset\n",
    "data['neighbours'] = neighbours\n",
    "\n",
    "# Save the updated dataset with neighbours information\n",
    "data.to_csv(file_path, index=False)\n",
    "\n",
    "# Display the first few rows to verify the results\n",
    "print(data[['PU-Name', 'PU-Code', 'latitude', 'longitude', 'neighbours']].head())\n"
   ]
  },
  {
   "cell_type": "markdown",
   "metadata": {},
   "source": [
    "####  Increasing the radius until we reach at least 30% of polling units with identified neighbors."
   ]
  },
  {
   "cell_type": "code",
   "execution_count": 1,
   "metadata": {},
   "outputs": [
    {
     "name": "stdout",
     "output_type": "stream",
     "text": [
      "Processed 1 polling units out of 836\n",
      "Processed 101 polling units out of 836\n",
      "Processed 201 polling units out of 836\n",
      "Processed 301 polling units out of 836\n",
      "Processed 401 polling units out of 836\n",
      "Processed 501 polling units out of 836\n",
      "Processed 601 polling units out of 836\n",
      "Processed 701 polling units out of 836\n",
      "Processed 801 polling units out of 836\n",
      "Radius: 10 km - Units with neighbors: 185 (22.13%)\n",
      "Processed 1 polling units out of 836\n",
      "Processed 101 polling units out of 836\n",
      "Processed 201 polling units out of 836\n",
      "Processed 301 polling units out of 836\n",
      "Processed 401 polling units out of 836\n",
      "Processed 501 polling units out of 836\n",
      "Processed 601 polling units out of 836\n",
      "Processed 701 polling units out of 836\n",
      "Processed 801 polling units out of 836\n",
      "Radius: 15 km - Units with neighbors: 248 (29.67%)\n",
      "Processed 1 polling units out of 836\n",
      "Processed 101 polling units out of 836\n",
      "Processed 201 polling units out of 836\n",
      "Processed 301 polling units out of 836\n",
      "Processed 401 polling units out of 836\n",
      "Processed 501 polling units out of 836\n",
      "Processed 601 polling units out of 836\n",
      "Processed 701 polling units out of 836\n",
      "Processed 801 polling units out of 836\n",
      "Radius: 20 km - Units with neighbors: 284 (33.97%)\n",
      "    PU-Name       PU-Code   latitude  longitude  \\\n",
      "0    AKWANO  26-01-01-001   8.590557   6.423480   \n",
      "1    BARO I  26-01-01-003  44.305348  17.596147   \n",
      "2   BARO II  26-01-01-004 -29.913243 -71.249374   \n",
      "3     ESSUN  26-01-01-005  60.177571  24.697060   \n",
      "4  EVUNTAGI  26-01-01-006   9.516667   6.150000   \n",
      "\n",
      "                                          neighbours  \n",
      "0                             [TWAKI (26-13-01-014)]  \n",
      "1                                                 []  \n",
      "2                                                 []  \n",
      "3                                                 []  \n",
      "4  [PATIGI - LIMAN (26-08-06-008), LEGBOZUKUN (26...  \n"
     ]
    }
   ],
   "source": [
    "import pandas as pd\n",
    "from geopy.distance import geodesic\n",
    "\n",
    "# Load the cleaned dataset\n",
    "file_path = 'NIGER_crosschecked_cleaned.csv'\n",
    "data = pd.read_csv(file_path)\n",
    "\n",
    "# Function to calculate distance between two points (lat1, lon1) and (lat2, lon2)\n",
    "def calculate_distance(lat1, lon1, lat2, lon2):\n",
    "    return geodesic((lat1, lon1), (lat2, lon2)).kilometers\n",
    "\n",
    "# Start radius and step size\n",
    "start_radius = 10\n",
    "step_size = 5\n",
    "target_percentage = 30\n",
    "current_percentage = 0\n",
    "\n",
    "while current_percentage < target_percentage:\n",
    "    # Initialize a list to store neighbours information\n",
    "    neighbours = []\n",
    "\n",
    "    # Iterate over each polling unit to find its neighbours\n",
    "    for i, row1 in data.iterrows():\n",
    "        neighbours_i = []\n",
    "        for j, row2 in data.iterrows():\n",
    "            if i != j:\n",
    "                distance = calculate_distance(row1['latitude'], row1['longitude'], row2['latitude'], row2['longitude'])\n",
    "                if distance <= start_radius:\n",
    "                    neighbours_i.append(f\"{row2['PU-Name']} ({row2['PU-Code']})\")\n",
    "        neighbours.append(neighbours_i)\n",
    "        if i % 100 == 0:\n",
    "            print(f\"Processed {i + 1} polling units out of {len(data)}\")\n",
    "\n",
    "    # Add the neighbours information to the dataset\n",
    "    data['neighbours'] = neighbours\n",
    "\n",
    "    # Calculate the number of polling units with and without neighbors\n",
    "    data['neighbours_count'] = data['neighbours'].apply(len)\n",
    "    total_units = len(data)\n",
    "    units_with_neighbors = len(data[data['neighbours_count'] > 0])\n",
    "    current_percentage = (units_with_neighbors / total_units) * 100\n",
    "\n",
    "    print(f\"Radius: {start_radius} km - Units with neighbors: {units_with_neighbors} ({current_percentage:.2f}%)\")\n",
    "\n",
    "    # Increase the radius for the next iteration\n",
    "    start_radius += step_size\n",
    "\n",
    "# Save the updated dataset with neighbours information\n",
    "data.to_csv(file_path, index=False)\n",
    "\n",
    "# Display the first few rows to verify the results\n",
    "print(data[['PU-Name', 'PU-Code', 'latitude', 'longitude', 'neighbours']].head())\n"
   ]
  },
  {
   "cell_type": "markdown",
   "metadata": {},
   "source": [
    "#### Cleaning & updating the polling units with no neigbours with \"No neighbours within 15 km\""
   ]
  },
  {
   "cell_type": "code",
   "execution_count": 3,
   "metadata": {},
   "outputs": [
    {
     "name": "stdout",
     "output_type": "stream",
     "text": [
      "    PU-Name       PU-Code   latitude  longitude  \\\n",
      "0    AKWANO  26-01-01-001   8.590557   6.423480   \n",
      "1    BARO I  26-01-01-003  44.305348  17.596147   \n",
      "2   BARO II  26-01-01-004 -29.913243 -71.249374   \n",
      "3     ESSUN  26-01-01-005  60.177571  24.697060   \n",
      "4  EVUNTAGI  26-01-01-006   9.516667   6.150000   \n",
      "\n",
      "                                          neighbours  \n",
      "0                           ['TWAKI (26-13-01-014)']  \n",
      "1                         No neighbours within 15 km  \n",
      "2                         No neighbours within 15 km  \n",
      "3                         No neighbours within 15 km  \n",
      "4  ['PATIGI - LIMAN (26-08-06-008)', 'LEGBOZUKUN ...  \n"
     ]
    }
   ],
   "source": [
    "import pandas as pd\n",
    "\n",
    "# Load the dataset\n",
    "file_path = 'NIGER_crosschecked_cleaned.csv'\n",
    "data = pd.read_csv(file_path)\n",
    "\n",
    "# Fill rows with no neighbours with a readable message\n",
    "data['neighbours'] = data['neighbours'].apply(lambda x: \"No neighbours within 15 km\" if x == '[]' else x)\n",
    "\n",
    "# Save the updated dataset\n",
    "data.to_csv(file_path, index=False)\n",
    "\n",
    "# Display the first few rows to verify the results\n",
    "print(data[['PU-Name', 'PU-Code', 'latitude', 'longitude', 'neighbours']].head())\n"
   ]
  },
  {
   "cell_type": "markdown",
   "metadata": {},
   "source": [
    "# Step 3 Outlier Score Calculation"
   ]
  },
  {
   "cell_type": "markdown",
   "metadata": {},
   "source": [
    "#### Parsing Neighbor Information"
   ]
  },
  {
   "cell_type": "code",
   "execution_count": 15,
   "metadata": {},
   "outputs": [
    {
     "name": "stdout",
     "output_type": "stream",
     "text": [
      "    PU-Name                                  Parsed_Neighbours\n",
      "0    AKWANO                                            [TWAKI]\n",
      "1    BARO I                                                 []\n",
      "2   BARO II                                                 []\n",
      "3     ESSUN                                                 []\n",
      "4  EVUNTAGI  [PATIGI - LIMAN, LEGBOZUKUN, BIDAFU, GUDUDZURU...\n"
     ]
    }
   ],
   "source": [
    "import ast\n",
    "\n",
    "# Function to parse neighbors by polling unit names\n",
    "def parse_neighbours(neighbours_str):\n",
    "    try:\n",
    "        neighbours_list = ast.literal_eval(neighbours_str)\n",
    "        return [neighbour.split(' (')[0] for neighbour in neighbours_list]\n",
    "    except:\n",
    "        return []\n",
    "\n",
    "\n",
    "\n",
    "# Display the first few rows to verify the parsed neighbors\n",
    "print(data[['PU-Name', 'Parsed_Neighbours']].head())\n"
   ]
  },
  {
   "cell_type": "markdown",
   "metadata": {},
   "source": [
    "##### Calculating the outliers"
   ]
  },
  {
   "cell_type": "code",
   "execution_count": 11,
   "metadata": {},
   "outputs": [
    {
     "name": "stdout",
     "output_type": "stream",
     "text": [
      "   State    LGA  Ward       PU-Code   PU-Name  Accredited_Voters  \\\n",
      "0  NIGER  AGAIE  BARO  26-01-01-001    AKWANO                164   \n",
      "1  NIGER  AGAIE  BARO  26-01-01-003    BARO I                148   \n",
      "2  NIGER  AGAIE  BARO  26-01-01-004   BARO II                148   \n",
      "3  NIGER  AGAIE  BARO  26-01-01-005     ESSUN                329   \n",
      "4  NIGER  AGAIE  BARO  26-01-01-006  EVUNTAGI                281   \n",
      "\n",
      "   Registered_Voters  Results_Found  Transcription_Count  \\\n",
      "0                541           True                   -1   \n",
      "1                429           True                   -1   \n",
      "2                429           True                   -1   \n",
      "3                803           True                   -1   \n",
      "4                531           True                   -1   \n",
      "\n",
      "   Result_Sheet_Stamped  ...  \\\n",
      "0                 False  ...   \n",
      "1                 False  ...   \n",
      "2                 False  ...   \n",
      "3                 False  ...   \n",
      "4                 False  ...   \n",
      "\n",
      "                                        Results_File   latitude  longitude  \\\n",
      "0  https://inec-cvr-cache.s3.eu-west-1.amazonaws....   8.590557   6.423480   \n",
      "1  https://inec-cvr-cache.s3.eu-west-1.amazonaws....  44.305348  17.596147   \n",
      "2  https://inec-cvr-cache.s3.eu-west-1.amazonaws.... -29.913243 -71.249374   \n",
      "3  https://inec-cvr-cache.s3.eu-west-1.amazonaws....  60.177571  24.697060   \n",
      "4  https://inec-cvr-cache.s3.eu-west-1.amazonaws....   9.516667   6.150000   \n",
      "\n",
      "                                          neighbours  neighbours_count  \\\n",
      "0                           ['TWAKI (26-13-01-014)']                 1   \n",
      "1                         No neighbours within 15 km                 0   \n",
      "2                         No neighbours within 15 km                 0   \n",
      "3                         No neighbours within 15 km                 0   \n",
      "4  ['PATIGI - LIMAN (26-08-06-008)', 'LEGBOZUKUN ...                 5   \n",
      "\n",
      "                                   Parsed_Neighbours  Outlier_Score_APC  \\\n",
      "0                                            [TWAKI]               35.0   \n",
      "1                                                 []                NaN   \n",
      "2                                                 []                NaN   \n",
      "3                                                 []                NaN   \n",
      "4  [PATIGI - LIMAN, LEGBOZUKUN, BIDAFU, GUDUDZURU...              103.4   \n",
      "\n",
      "   Outlier_Score_LP Outlier_Score_PDP  Outlier_Score_NNPP  \n",
      "0               0.0              11.0                 3.0  \n",
      "1               NaN               NaN                 NaN  \n",
      "2               NaN               NaN                 NaN  \n",
      "3               NaN               NaN                 NaN  \n",
      "4               0.0               2.2                 2.4  \n",
      "\n",
      "[5 rows x 28 columns]\n",
      "          PU-Code   PU-Name Party  Votes  Neighbour_Mean  Absolute_Difference\n",
      "932  26-25-10-008   KACE  I   APC     44           440.0                396.0\n",
      "936  26-25-10-009  KACE  II   APC    440            44.0                396.0\n",
      "816  26-22-02-001  ISLAMIYA   APC    213            32.0                181.0\n",
      "76   26-04-03-005    KAGOGI   APC    196            17.5                178.5\n",
      "868  26-22-09-001    GIJIWA   APC    253            75.0                178.0\n"
     ]
    }
   ],
   "source": [
    "# Initialize lists to store outlier scores\n",
    "outlier_scores = []\n",
    "outlier_score_columns = {'APC': [], 'LP': [], 'PDP': [], 'NNPP': []}\n",
    "\n",
    "# List of parties\n",
    "parties = ['APC', 'LP', 'PDP', 'NNPP']\n",
    "\n",
    "# Iterate over each polling unit\n",
    "for index, row in data.iterrows():\n",
    "    pu_code = row['PU-Code']\n",
    "    pu_name = row['PU-Name']\n",
    "    neighbors = row['Parsed_Neighbours']\n",
    "    \n",
    "    if len(neighbors) == 0:\n",
    "        for party in parties:\n",
    "            outlier_score_columns[party].append(None)\n",
    "        continue\n",
    "    \n",
    "    neighbor_data = data[data['PU-Name'].isin(neighbors)]\n",
    "    \n",
    "    for party in parties:\n",
    "        mean_votes = neighbor_data[party].mean()\n",
    "        abs_diff = abs(row[party] - mean_votes)\n",
    "        \n",
    "        outlier_scores.append({\n",
    "            'PU-Code': pu_code,\n",
    "            'PU-Name': pu_name,\n",
    "            'Party': party,\n",
    "            'Votes': row[party],\n",
    "            'Neighbour_Mean': mean_votes,\n",
    "            'Absolute_Difference': abs_diff\n",
    "        })\n",
    "        outlier_score_columns[party].append(abs_diff)\n",
    "\n",
    "# Add outlier scores to the original dataset\n",
    "for party in parties:\n",
    "    data[f'Outlier_Score_{party}'] = outlier_score_columns[party]\n",
    "\n",
    "# Save the updated dataset with outlier scores to the original CSV file\n",
    "data.to_csv(file_path, index=False)\n",
    "\n",
    "# Convert the outlier scores to a DataFrame for sorting\n",
    "outlier_scores_df = pd.DataFrame(outlier_scores)\n",
    "\n",
    "# Sort the outlier scores by Absolute Difference for each party\n",
    "sorted_outlier_scores_df = outlier_scores_df.sort_values(by=['Party', 'Absolute_Difference'], ascending=[True, False])\n",
    "\n",
    "# Save the sorted outlier scores to an Excel file\n",
    "output_file_path = 'sorted_outlier_scores.xlsx'\n",
    "sorted_outlier_scores_df.to_excel(output_file_path, index=False)\n",
    "\n",
    "# Display the first few rows to verify the results\n",
    "print(data.head())\n",
    "print(sorted_outlier_scores_df.head())\n"
   ]
  },
  {
   "cell_type": "markdown",
   "metadata": {},
   "source": [
    "# Step 4: Sorting"
   ]
  },
  {
   "cell_type": "code",
   "execution_count": 12,
   "metadata": {},
   "outputs": [
    {
     "name": "stdout",
     "output_type": "stream",
     "text": [
      "          PU-Code      PU-Name Party  Votes  Neighbour_Mean  \\\n",
      "0    26-25-10-008      KACE  I   APC     44           440.0   \n",
      "1    26-25-10-009     KACE  II   APC    440            44.0   \n",
      "2    26-22-02-001     ISLAMIYA   APC    213            32.0   \n",
      "284  26-14-03-007    RABA GARI    LP    209             4.0   \n",
      "285  26-19-06-010     JIBIDIGA    LP    160            10.0   \n",
      "286  26-18-06-003      GWADAMI    LP     27           147.0   \n",
      "852  26-07-07-010         KOKO   PDP    242            80.0   \n",
      "853  26-19-10-006  UK. BELLO I   PDP     80           242.0   \n",
      "854  26-04-03-005       KAGOGI   PDP    176            16.0   \n",
      "568  26-17-05-002   JEBBA GANA  NNPP     80            10.0   \n",
      "569  26-03-02-014  SARKIN KUDU  NNPP      0            57.0   \n",
      "570  26-11-07-003    KWANGWARA  NNPP     57             0.0   \n",
      "\n",
      "     Absolute_Difference  \n",
      "0                  396.0  \n",
      "1                  396.0  \n",
      "2                  181.0  \n",
      "284                205.0  \n",
      "285                150.0  \n",
      "286                120.0  \n",
      "852                162.0  \n",
      "853                162.0  \n",
      "854                160.0  \n",
      "568                 70.0  \n",
      "569                 57.0  \n",
      "570                 57.0  \n"
     ]
    }
   ],
   "source": [
    "import pandas as pd\n",
    "\n",
    "# Load the sorted outlier scores from the Excel file\n",
    "file_path = 'sorted_outlier_scores.xlsx'\n",
    "sorted_outlier_scores_df = pd.read_excel(file_path)\n",
    "\n",
    "# Define a function to get the top 3 outliers for a specific party\n",
    "def get_top_outliers(data, party, top_n=3):\n",
    "    top_outliers = data[data['Party'] == party].nlargest(top_n, 'Absolute_Difference')\n",
    "    return top_outliers\n",
    "\n",
    "# Get the top 3 outliers for each party\n",
    "top_outliers_apc = get_top_outliers(sorted_outlier_scores_df, 'APC')\n",
    "top_outliers_lp = get_top_outliers(sorted_outlier_scores_df, 'LP')\n",
    "top_outliers_pdp = get_top_outliers(sorted_outlier_scores_df, 'PDP')\n",
    "top_outliers_nnpp = get_top_outliers(sorted_outlier_scores_df, 'NNPP')\n",
    "\n",
    "# Combine the top outliers into a single DataFrame\n",
    "top_outliers = pd.concat([top_outliers_apc, top_outliers_lp, top_outliers_pdp, top_outliers_nnpp])\n",
    "\n",
    "# Display the top outliers\n",
    "print(top_outliers)\n"
   ]
  },
  {
   "cell_type": "markdown",
   "metadata": {},
   "source": [
    "##### Visualizing the Top 3 Outliers for Each Party"
   ]
  },
  {
   "cell_type": "code",
   "execution_count": 13,
   "metadata": {},
   "outputs": [
    {
     "data": {
      "image/png": "[encoded data removed]",
      "text/plain": [
       "<Figure size 1000x600 with 1 Axes>"
      ]
     },
     "metadata": {},
     "output_type": "display_data"
    },
    {
     "data": {
      "image/png": "[encoded data removed]",
      "text/plain": [
       "<Figure size 1000x600 with 1 Axes>"
      ]
     },
     "metadata": {},
     "output_type": "display_data"
    },
    {
     "data": {
      "image/png": "[encoded data removed]",
      "text/plain": [
       "<Figure size 1000x600 with 1 Axes>"
      ]
     },
     "metadata": {},
     "output_type": "display_data"
    },
    {
     "data": {
      "image/png": "[encoded data removed]",
      "text/plain": [
       "<Figure size 1000x600 with 1 Axes>"
      ]
     },
     "metadata": {},
     "output_type": "display_data"
    }
   ],
   "source": [
    "import matplotlib.pyplot as plt\n",
    "\n",
    "# Function to plot top outliers\n",
    "def plot_top_outliers(data, party):\n",
    "    top_outliers = data[data['Party'] == party]\n",
    "    plt.figure(figsize=(10, 6))\n",
    "    plt.barh(top_outliers['PU-Name'], top_outliers['Absolute_Difference'], color='skyblue')\n",
    "    plt.xlabel('Absolute Difference')\n",
    "    plt.ylabel('Polling Unit')\n",
    "    plt.title(f'Top 3 Outlier Scores for {party}')\n",
    "    plt.gca().invert_yaxis()\n",
    "    plt.show()\n",
    "\n",
    "# Plot top outliers for each party\n",
    "plot_top_outliers(top_outliers, 'APC')\n",
    "plot_top_outliers(top_outliers, 'LP')\n",
    "plot_top_outliers(top_outliers, 'PDP')\n",
    "plot_top_outliers(top_outliers, 'NNPP')\n"
   ]
  }
 ],
 "metadata": {
  "kernelspec": {
   "display_name": "Python 3",
   "language": "python",
   "name": "python3"
  },
  "language_info": {
   "codemirror_mode": {
    "name": "ipython",
    "version": 3
   },
   "file_extension": ".py",
   "mimetype": "text/x-python",
   "name": "python",
   "nbconvert_exporter": "python",
   "pygments_lexer": "ipython3",
   "version": "3.12.3"
  }
 },
 "nbformat": 4,
 "nbformat_minor": 2
}
